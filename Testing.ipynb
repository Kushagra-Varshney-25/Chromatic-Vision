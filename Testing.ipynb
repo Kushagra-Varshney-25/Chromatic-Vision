{
 "cells": [
  {
   "cell_type": "code",
   "execution_count": 1,
   "id": "5648171b-6832-4ff0-b6e9-3e3f672740e4",
   "metadata": {
    "tags": []
   },
   "outputs": [],
   "source": [
    "from PIL import Image\n",
    "import matplotlib.pyplot as plt\n",
    "import numpy as np\n",
    "import torch\n",
    "from skimage.color import rgb2lab, lab2rgb\n",
    "device = torch.device(\"cuda\" if torch.cuda.is_available() else \"cpu\")\n",
    "from unet import UNet \n",
    "import argparse\n",
    "from torchvision import transforms"
   ]
  },
  {
   "cell_type": "code",
   "execution_count": 2,
   "id": "2af86dd2-6341-43ae-80e1-2f6506c61664",
   "metadata": {
    "tags": []
   },
   "outputs": [],
   "source": [
    "def rgb_to_lab(img):\n",
    "    img = np.array(img)\n",
    "    img_lab = rgb2lab(img).astype(\"float32\") # Converting RGB to L*a*b\n",
    "    img_lab = transforms.ToTensor()(img_lab)\n",
    "    L = img_lab[[0], ...] / 50. - 1. # Between -1 and 1\n",
    "    ab = img_lab[[1, 2], ...] / 110. # Between -1 and 1\n",
    "    L = L.unsqueeze(0)\n",
    "    ab = ab.unsqueeze(0)\n",
    "        \n",
    "    return {'L': L, 'ab': ab}\n",
    "\n",
    "def lab_to_rgb(L, ab):\n",
    "    L = (L + 1.) * 50.\n",
    "    ab = ab * 110.\n",
    "    Lab = torch.cat([L, ab], dim=1).permute(0, 2, 3, 1).cpu().numpy()\n",
    "    Lab = Lab[0]\n",
    "    img_rgb = lab2rgb(Lab)\n",
    "    return img_rgb"
   ]
  },
  {
   "cell_type": "code",
   "execution_count": null,
   "id": "c3ac650c-7b80-412a-936e-4b7ff801c3eb",
   "metadata": {},
   "outputs": [],
   "source": [
    "if __name__ == \"__main__\":\n",
    "    args = {\n",
    "        \"p_model\":\"\",\n",
    "        \"p_img\":\"\"\n",
    "    }\n",
    "    checkpoint = torch.load(args.p_model)\n",
    "    img_org = Image.open(args.p_img)\n",
    "    img_org = img_org.resize((256, 256), Image.BICUBIC)\n",
    "    image = rgb_to_lab(img_org)\n",
    "\n",
    "    # Loading the model\n",
    "    model = UNet(n_channels = 1, n_classes = 2)\n",
    "    model.load_state_dict(checkpoint['state_dict'])\n",
    "    model.to(device)\n",
    "    model.eval()\n",
    "    with torch.no_grad():\n",
    "        # predicting using the model\n",
    "        L = image[\"L\"].to(device)\n",
    "        ab = image[\"ab\"].to(device)\n",
    "        ab_pred = model(L)\n",
    "        rgb_pred = lab_to_rgb(L, ab_pred)\n",
    "        \n",
    "        fig = plt.figure(figsize=(20,15))\n",
    "\n",
    "        ax = plt.subplot(1, 3, 1)\n",
    "        ax.imshow(image['L'][0][0].cpu(), cmap='gray')\n",
    "        ax.axis(\"off\")\n",
    "\n",
    "        ax = plt.subplot(1, 3, 2)\n",
    "        ax.imshow(rgb_pred)\n",
    "        ax.axis(\"off\")\n",
    "\n",
    "        ax = plt.subplot(1, 3, 3)\n",
    "        ax.imshow(img_org)\n",
    "        ax.axis(\"off\")\n",
    "        plt.show()\n",
    "\n",
    "    ssim_val = checkpoint[\"ssim_val\"]\n",
    "    train_loss = checkpoint['loss_train']\n",
    "    val_loss = checkpoint['loss_val']\n",
    "    epoch = checkpoint['epoch']\n",
    "    print(len(ssim_val),len(train_loss),len(val_loss),epoch)"
   ]
  },
  {
   "cell_type": "code",
   "execution_count": null,
   "id": "cb22130a-ff3c-4e73-843f-9aeb8403906a",
   "metadata": {},
   "outputs": [],
   "source": []
  },
  {
   "cell_type": "code",
   "execution_count": null,
   "id": "461dff5e-73ee-4748-90c8-9b562677ae9f",
   "metadata": {},
   "outputs": [],
   "source": []
  }
 ],
 "metadata": {
  "kernelspec": {
   "display_name": "Python 3 (ipykernel)",
   "language": "python",
   "name": "python3"
  },
  "language_info": {
   "codemirror_mode": {
    "name": "ipython",
    "version": 3
   },
   "file_extension": ".py",
   "mimetype": "text/x-python",
   "name": "python",
   "nbconvert_exporter": "python",
   "pygments_lexer": "ipython3",
   "version": "3.10.11"
  }
 },
 "nbformat": 4,
 "nbformat_minor": 5
}
